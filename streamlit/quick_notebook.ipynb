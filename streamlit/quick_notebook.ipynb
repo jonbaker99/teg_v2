{
 "cells": [
  {
   "cell_type": "code",
   "execution_count": null,
   "metadata": {},
   "outputs": [],
   "source": [
    "from utils import load_all_data\n",
    "\n",
    "all_data = load_all_data()\n",
    "\n",
    "#eagles = all_data[all_data['GrossVP']==-2].sort_values(by='Date')\n",
    "#eagles[['Player','TEG','Round','Course','Hole','Date']]\n",
    "\n",
    "#print(all_data.columns)\n",
    "\n",
    "print(sorted(all_data['Course'].unique()))"
   ]
  },
  {
   "cell_type": "code",
   "execution_count": null,
   "metadata": {},
   "outputs": [],
   "source": [
    "name_mapping = {\n",
    "    'Gross vs Par': 'GrossVP',\n",
    "    'Score': 'Sc',\n",
    "    'Net vs Par': 'NetVP',\n",
    "    'Stableford': 'Stableford'\n",
    "}\n",
    "inverted_name_mapping = {v: k for k, v in name_mapping.items()}\n",
    "\n",
    "metrics = ['Sc', 'Stableford', 'GrossVP', 'NetVP']\n",
    "metrics_friendly = [inverted_name_mapping[metric] for metric in metrics]\n",
    "print(metrics_friendly)"
   ]
  },
  {
   "cell_type": "code",
   "execution_count": null,
   "metadata": {},
   "outputs": [],
   "source": [
    "print(all_data.head())"
   ]
  },
  {
   "cell_type": "code",
   "execution_count": null,
   "metadata": {},
   "outputs": [],
   "source": [
    "from utils import get_ranked_round_data, load_all_data, get_best, get_worst, get_round_data, aggregate_data, FILE_PATH_ALL_DATA, get_base_directory\n",
    "import pandas as pd\n",
    "\n",
    "print(get_base_directory())\n",
    "\n",
    "\n",
    "# df = pd.read_parquet(FILE_PATH_ALL_DATA)\n",
    "# print(df.head())\n",
    "\n",
    "\n",
    "# all_data = load_all_data()\n",
    "# #exclude_teg_50 = Teu, exclude_incomplete_tegs = ex_incomplete\n",
    "# print(all_data.head())\n",
    "\n",
    "# aggregated_data = aggregate_data(all_data,'Round')\n",
    "\n",
    "# rd1 = get_round_data()\n",
    "# rd1.columns\n",
    "\n",
    "rd = get_ranked_round_data()\n",
    "#rd.columns\n",
    "\n",
    "get_worst(rd, 'Sc')\n",
    "get_worst(rd, 'GrossVP')\n",
    "\n"
   ]
  },
  {
   "cell_type": "code",
   "execution_count": null,
   "metadata": {},
   "outputs": [],
   "source": [
    "import streamlit as st\n",
    "import pandas as pd\n",
    "from utils import load_all_data, datawrapper_table_css, format_vs_par\n",
    "\n",
    "all_data = load_all_data(exclude_teg_50=True, exclude_incomplete_tegs=False)\n",
    "all_data['TRH'] = all_data[['TEGNum', 'Round', 'Hole']].astype(str).agg('|'.join, axis=1)\n"
   ]
  },
  {
   "cell_type": "code",
   "execution_count": null,
   "metadata": {},
   "outputs": [],
   "source": [
    "\n",
    "bestball = all_data.groupby('TRH').apply(lambda x: x.nsmallest(1, 'Sc')).reset_index(drop=True)\n"
   ]
  },
  {
   "cell_type": "code",
   "execution_count": null,
   "metadata": {},
   "outputs": [],
   "source": [
    "bestball_cols = ['TEG','Round','Course','Year']\n",
    "value_cols = ['GrossVP','Sc']\n",
    "\n",
    "\n",
    "bestball2 = bestball.groupby(bestball_cols)[value_cols].sum().reset_index()\n",
    "bestball2"
   ]
  },
  {
   "cell_type": "code",
   "execution_count": null,
   "metadata": {},
   "outputs": [],
   "source": [
    "bestball_output = bestball2[bestball_cols + value_cols].sort_values(by='GrossVP', ascending = True)\n",
    "bestball_output"
   ]
  },
  {
   "cell_type": "code",
   "execution_count": 37,
   "metadata": {},
   "outputs": [
    {
     "name": "stderr",
     "output_type": "stream",
     "text": [
      "2024-10-23 18:42:54.882 Thread 'MainThread': missing ScriptRunContext! This warning can be ignored when running in bare mode.\n",
      "2024-10-23 18:42:54.882 Thread 'MainThread': missing ScriptRunContext! This warning can be ignored when running in bare mode.\n",
      "2024-10-23 18:42:54.882 Thread 'MainThread': missing ScriptRunContext! This warning can be ignored when running in bare mode.\n",
      "2024-10-23 18:42:54.889 Thread 'MainThread': missing ScriptRunContext! This warning can be ignored when running in bare mode.\n",
      "2024-10-23 18:42:54.889 Thread 'MainThread': missing ScriptRunContext! This warning can be ignored when running in bare mode.\n"
     ]
    }
   ],
   "source": [
    "import streamlit as st\n",
    "import pandas as pd\n",
    "from utils import load_all_data, datawrapper_table_css, format_vs_par, get_round_data\n",
    "import warnings, logging\n",
    "warnings.filterwarnings('ignore')\n",
    "logging.getLogger('streamlit').setLevel(logging.ERROR)\n",
    "\n",
    "\n",
    "all_data = load_all_data(exclude_teg_50=True, exclude_incomplete_tegs=False)"
   ]
  },
  {
   "cell_type": "code",
   "execution_count": 57,
   "metadata": {},
   "outputs": [
    {
     "name": "stderr",
     "output_type": "stream",
     "text": [
      "2024-10-23 19:06:23.529 Thread 'MainThread': missing ScriptRunContext! This warning can be ignored when running in bare mode.\n",
      "2024-10-23 19:06:23.529 Thread 'MainThread': missing ScriptRunContext! This warning can be ignored when running in bare mode.\n",
      "2024-10-23 19:06:23.529 Thread 'MainThread': missing ScriptRunContext! This warning can be ignored when running in bare mode.\n",
      "2024-10-23 19:06:23.529 Thread 'MainThread': missing ScriptRunContext! This warning can be ignored when running in bare mode.\n",
      "2024-10-23 19:06:23.529 Thread 'MainThread': missing ScriptRunContext! This warning can be ignored when running in bare mode.\n"
     ]
    },
    {
     "name": "stdout",
     "output_type": "stream",
     "text": [
      "all rd data loaded\n"
     ]
    }
   ],
   "source": [
    "from utils import get_round_data\n",
    "all_rd_data = get_round_data(ex_50 = True, ex_incomplete= False)\n",
    "all_rd_data['TR'] = all_rd_data['TEGNum']*100 + rd_data['Round']\n",
    "print('all rd data loaded')\n"
   ]
  },
  {
   "cell_type": "code",
   "execution_count": 58,
   "metadata": {},
   "outputs": [
    {
     "data": {
      "text/html": [
       "<div>\n",
       "<style scoped>\n",
       "    .dataframe tbody tr th:only-of-type {\n",
       "        vertical-align: middle;\n",
       "    }\n",
       "\n",
       "    .dataframe tbody tr th {\n",
       "        vertical-align: top;\n",
       "    }\n",
       "\n",
       "    .dataframe thead th {\n",
       "        text-align: right;\n",
       "    }\n",
       "</style>\n",
       "<table border=\"1\" class=\"dataframe\">\n",
       "  <thead>\n",
       "    <tr style=\"text-align: right;\">\n",
       "      <th></th>\n",
       "      <th>Pl</th>\n",
       "      <th>TEG</th>\n",
       "      <th>Round</th>\n",
       "      <th>Course</th>\n",
       "      <th>Year</th>\n",
       "      <th>Sc</th>\n",
       "      <th>prev_Sc</th>\n",
       "      <th>diff</th>\n",
       "    </tr>\n",
       "  </thead>\n",
       "  <tbody>\n",
       "    <tr>\n",
       "      <th>289</th>\n",
       "      <td>SN</td>\n",
       "      <td>TEG 8</td>\n",
       "      <td>1</td>\n",
       "      <td>Quinta da Marinha</td>\n",
       "      <td>2015</td>\n",
       "      <td>114</td>\n",
       "      <td>84</td>\n",
       "      <td>30</td>\n",
       "    </tr>\n",
       "    <tr>\n",
       "      <th>121</th>\n",
       "      <td>SN</td>\n",
       "      <td>TEG 15</td>\n",
       "      <td>3</td>\n",
       "      <td>Penha Longa</td>\n",
       "      <td>2022</td>\n",
       "      <td>92</td>\n",
       "      <td>115</td>\n",
       "      <td>-23</td>\n",
       "    </tr>\n",
       "    <tr>\n",
       "      <th>266</th>\n",
       "      <td>HM</td>\n",
       "      <td>TEG 7</td>\n",
       "      <td>1</td>\n",
       "      <td>Praia D'El Rey</td>\n",
       "      <td>2014</td>\n",
       "      <td>85</td>\n",
       "      <td>107</td>\n",
       "      <td>-22</td>\n",
       "    </tr>\n",
       "    <tr>\n",
       "      <th>81</th>\n",
       "      <td>JP</td>\n",
       "      <td>TEG 13</td>\n",
       "      <td>3</td>\n",
       "      <td>Littlestone</td>\n",
       "      <td>2020</td>\n",
       "      <td>83</td>\n",
       "      <td>105</td>\n",
       "      <td>-22</td>\n",
       "    </tr>\n",
       "    <tr>\n",
       "      <th>161</th>\n",
       "      <td>JP</td>\n",
       "      <td>TEG 17</td>\n",
       "      <td>3</td>\n",
       "      <td>Royal Óbidos</td>\n",
       "      <td>2024</td>\n",
       "      <td>94</td>\n",
       "      <td>116</td>\n",
       "      <td>-22</td>\n",
       "    </tr>\n",
       "    <tr>\n",
       "      <th>...</th>\n",
       "      <td>...</td>\n",
       "      <td>...</td>\n",
       "      <td>...</td>\n",
       "      <td>...</td>\n",
       "      <td>...</td>\n",
       "      <td>...</td>\n",
       "      <td>...</td>\n",
       "      <td>...</td>\n",
       "    </tr>\n",
       "    <tr>\n",
       "      <th>111</th>\n",
       "      <td>DM</td>\n",
       "      <td>TEG 15</td>\n",
       "      <td>2</td>\n",
       "      <td>West Cliffs</td>\n",
       "      <td>2022</td>\n",
       "      <td>94</td>\n",
       "      <td>94</td>\n",
       "      <td>0</td>\n",
       "    </tr>\n",
       "    <tr>\n",
       "      <th>55</th>\n",
       "      <td>JP</td>\n",
       "      <td>TEG 12</td>\n",
       "      <td>2</td>\n",
       "      <td>PGA Catalunya - Tour</td>\n",
       "      <td>2019</td>\n",
       "      <td>96</td>\n",
       "      <td>96</td>\n",
       "      <td>0</td>\n",
       "    </tr>\n",
       "    <tr>\n",
       "      <th>317</th>\n",
       "      <td>DM</td>\n",
       "      <td>TEG 9</td>\n",
       "      <td>2</td>\n",
       "      <td>Praia D'El Rey</td>\n",
       "      <td>2016</td>\n",
       "      <td>87</td>\n",
       "      <td>87</td>\n",
       "      <td>0</td>\n",
       "    </tr>\n",
       "    <tr>\n",
       "      <th>160</th>\n",
       "      <td>JB</td>\n",
       "      <td>TEG 17</td>\n",
       "      <td>3</td>\n",
       "      <td>Royal Óbidos</td>\n",
       "      <td>2024</td>\n",
       "      <td>86</td>\n",
       "      <td>86</td>\n",
       "      <td>0</td>\n",
       "    </tr>\n",
       "    <tr>\n",
       "      <th>92</th>\n",
       "      <td>JB</td>\n",
       "      <td>TEG 14</td>\n",
       "      <td>2</td>\n",
       "      <td>Littlestone</td>\n",
       "      <td>2021</td>\n",
       "      <td>92</td>\n",
       "      <td>92</td>\n",
       "      <td>0</td>\n",
       "    </tr>\n",
       "  </tbody>\n",
       "</table>\n",
       "<p>328 rows × 8 columns</p>\n",
       "</div>"
      ],
      "text/plain": [
       "     Pl     TEG  Round                Course  Year   Sc  prev_Sc  diff\n",
       "289  SN   TEG 8      1     Quinta da Marinha  2015  114       84    30\n",
       "121  SN  TEG 15      3           Penha Longa  2022   92      115   -23\n",
       "266  HM   TEG 7      1        Praia D'El Rey  2014   85      107   -22\n",
       "81   JP  TEG 13      3           Littlestone  2020   83      105   -22\n",
       "161  JP  TEG 17      3          Royal Óbidos  2024   94      116   -22\n",
       "..   ..     ...    ...                   ...   ...  ...      ...   ...\n",
       "111  DM  TEG 15      2           West Cliffs  2022   94       94     0\n",
       "55   JP  TEG 12      2  PGA Catalunya - Tour  2019   96       96     0\n",
       "317  DM   TEG 9      2        Praia D'El Rey  2016   87       87     0\n",
       "160  JB  TEG 17      3          Royal Óbidos  2024   86       86     0\n",
       "92   JB  TEG 14      2           Littlestone  2021   92       92     0\n",
       "\n",
       "[328 rows x 8 columns]"
      ]
     },
     "execution_count": 58,
     "metadata": {},
     "output_type": "execute_result"
    }
   ],
   "source": [
    "\n",
    "rd_data = all_rd_data\n",
    "\n",
    "rd_data.sort_values(['Pl', 'TR'], inplace=True)\n",
    "rd_data['diff'] = (rd_data.groupby('Pl')['Sc'].diff().values)\n",
    "rd_data['prev_Sc'] = rd_data.groupby('Pl')['Sc'].shift()\n",
    "rd_data.dropna(subset=['diff'], inplace=True)\n",
    "rd_data['diff_abs'] = rd_data['diff'].abs()   \n",
    "rd_data.sort_values(['diff_abs'],inplace=True, ascending=False)\n",
    "rd_data[['Sc','prev_Sc','diff']] = rd_data[['Sc','prev_Sc','diff']].astype(int)\n",
    "rd_data[['Pl','TEG','Round','Course','Year','Sc','prev_Sc','diff']]"
   ]
  },
  {
   "cell_type": "code",
   "execution_count": 60,
   "metadata": {},
   "outputs": [
    {
     "ename": "ValueError",
     "evalue": "No axis named TEG for object type DataFrame",
     "output_type": "error",
     "traceback": [
      "\u001b[1;31m---------------------------------------------------------------------------\u001b[0m",
      "\u001b[1;31mKeyError\u001b[0m                                  Traceback (most recent call last)",
      "\u001b[1;32mc:\\Users\\JBA33\\AppData\\Local\\Programs\\Python\\Python312\\Lib\\site-packages\\pandas\\core\\generic.py\u001b[0m in \u001b[0;36m?\u001b[1;34m(cls, axis)\u001b[0m\n\u001b[0;32m    575\u001b[0m             \u001b[1;32mreturn\u001b[0m \u001b[0mcls\u001b[0m\u001b[1;33m.\u001b[0m\u001b[0m_AXIS_TO_AXIS_NUMBER\u001b[0m\u001b[1;33m[\u001b[0m\u001b[0maxis\u001b[0m\u001b[1;33m]\u001b[0m\u001b[1;33m\u001b[0m\u001b[1;33m\u001b[0m\u001b[0m\n\u001b[0;32m    576\u001b[0m         \u001b[1;32mexcept\u001b[0m \u001b[0mKeyError\u001b[0m\u001b[1;33m:\u001b[0m\u001b[1;33m\u001b[0m\u001b[1;33m\u001b[0m\u001b[0m\n\u001b[1;32m--> 577\u001b[1;33m             \u001b[1;32mraise\u001b[0m \u001b[0mValueError\u001b[0m\u001b[1;33m(\u001b[0m\u001b[1;33mf\"\u001b[0m\u001b[1;33mNo axis named \u001b[0m\u001b[1;33m{\u001b[0m\u001b[0maxis\u001b[0m\u001b[1;33m}\u001b[0m\u001b[1;33m for object type \u001b[0m\u001b[1;33m{\u001b[0m\u001b[0mcls\u001b[0m\u001b[1;33m.\u001b[0m\u001b[0m__name__\u001b[0m\u001b[1;33m}\u001b[0m\u001b[1;33m\"\u001b[0m\u001b[1;33m)\u001b[0m\u001b[1;33m\u001b[0m\u001b[1;33m\u001b[0m\u001b[0m\n\u001b[0m",
      "\u001b[1;31mKeyError\u001b[0m: 'TEG'",
      "\nDuring handling of the above exception, another exception occurred:\n",
      "\u001b[1;31mValueError\u001b[0m                                Traceback (most recent call last)",
      "\u001b[1;32m~\\AppData\\Local\\Temp\\ipykernel_22772\\101851031.py\u001b[0m in \u001b[0;36m?\u001b[1;34m()\u001b[0m\n\u001b[0;32m      1\u001b[0m \u001b[0mrd_data\u001b[0m \u001b[1;33m=\u001b[0m \u001b[0mall_rd_data\u001b[0m\u001b[1;33m\u001b[0m\u001b[1;33m\u001b[0m\u001b[0m\n\u001b[0;32m      2\u001b[0m \u001b[1;33m\u001b[0m\u001b[0m\n\u001b[0;32m      3\u001b[0m \u001b[0mrd_data\u001b[0m\u001b[1;33m.\u001b[0m\u001b[0msort_values\u001b[0m\u001b[1;33m(\u001b[0m\u001b[1;33m[\u001b[0m\u001b[1;34m'Pl'\u001b[0m\u001b[1;33m,\u001b[0m \u001b[1;34m'TR'\u001b[0m\u001b[1;33m]\u001b[0m\u001b[1;33m,\u001b[0m \u001b[0minplace\u001b[0m\u001b[1;33m=\u001b[0m\u001b[1;32mTrue\u001b[0m\u001b[1;33m)\u001b[0m\u001b[1;33m\u001b[0m\u001b[1;33m\u001b[0m\u001b[0m\n\u001b[1;32m----> 4\u001b[1;33m \u001b[0mrd_data\u001b[0m\u001b[1;33m[\u001b[0m\u001b[1;34m'diff'\u001b[0m\u001b[1;33m]\u001b[0m \u001b[1;33m=\u001b[0m \u001b[1;33m(\u001b[0m\u001b[0mrd_data\u001b[0m\u001b[1;33m.\u001b[0m\u001b[0mgroupby\u001b[0m\u001b[1;33m(\u001b[0m\u001b[1;34m'Pl'\u001b[0m\u001b[1;33m,\u001b[0m\u001b[1;34m'TEG'\u001b[0m\u001b[1;33m)\u001b[0m\u001b[1;33m[\u001b[0m\u001b[1;34m'Sc'\u001b[0m\u001b[1;33m]\u001b[0m\u001b[1;33m.\u001b[0m\u001b[0mdiff\u001b[0m\u001b[1;33m(\u001b[0m\u001b[1;33m)\u001b[0m\u001b[1;33m.\u001b[0m\u001b[0mvalues\u001b[0m\u001b[1;33m)\u001b[0m\u001b[1;33m\u001b[0m\u001b[1;33m\u001b[0m\u001b[0m\n\u001b[0m\u001b[0;32m      5\u001b[0m \u001b[0mrd_data\u001b[0m\u001b[1;33m[\u001b[0m\u001b[1;34m'prev_Sc'\u001b[0m\u001b[1;33m]\u001b[0m \u001b[1;33m=\u001b[0m \u001b[0mrd_data\u001b[0m\u001b[1;33m.\u001b[0m\u001b[0mgroupby\u001b[0m\u001b[1;33m(\u001b[0m\u001b[1;34m'Pl'\u001b[0m\u001b[1;33m,\u001b[0m\u001b[1;34m'TEG'\u001b[0m\u001b[1;33m)\u001b[0m\u001b[1;33m[\u001b[0m\u001b[1;34m'Sc'\u001b[0m\u001b[1;33m]\u001b[0m\u001b[1;33m.\u001b[0m\u001b[0mshift\u001b[0m\u001b[1;33m(\u001b[0m\u001b[1;33m)\u001b[0m\u001b[1;33m\u001b[0m\u001b[1;33m\u001b[0m\u001b[0m\n\u001b[0;32m      6\u001b[0m \u001b[0mrd_data\u001b[0m\u001b[1;33m.\u001b[0m\u001b[0mreset_index\u001b[0m\u001b[1;33m(\u001b[0m\u001b[0minplace\u001b[0m\u001b[1;33m=\u001b[0m\u001b[1;32mTrue\u001b[0m\u001b[1;33m)\u001b[0m\u001b[1;33m\u001b[0m\u001b[1;33m\u001b[0m\u001b[0m\n\u001b[0;32m      7\u001b[0m \u001b[0mrd_data\u001b[0m\u001b[1;33m.\u001b[0m\u001b[0mdropna\u001b[0m\u001b[1;33m(\u001b[0m\u001b[0msubset\u001b[0m\u001b[1;33m=\u001b[0m\u001b[1;33m[\u001b[0m\u001b[1;34m'diff'\u001b[0m\u001b[1;33m]\u001b[0m\u001b[1;33m,\u001b[0m \u001b[0minplace\u001b[0m\u001b[1;33m=\u001b[0m\u001b[1;32mTrue\u001b[0m\u001b[1;33m)\u001b[0m\u001b[1;33m\u001b[0m\u001b[1;33m\u001b[0m\u001b[0m\n",
      "\u001b[1;32mc:\\Users\\JBA33\\AppData\\Local\\Programs\\Python\\Python312\\Lib\\site-packages\\pandas\\core\\frame.py\u001b[0m in \u001b[0;36m?\u001b[1;34m(self, by, axis, level, as_index, sort, group_keys, observed, dropna)\u001b[0m\n\u001b[0;32m   9129\u001b[0m         \u001b[0mobserved\u001b[0m\u001b[1;33m:\u001b[0m \u001b[0mbool\u001b[0m \u001b[1;33m|\u001b[0m \u001b[0mlib\u001b[0m\u001b[1;33m.\u001b[0m\u001b[0mNoDefault\u001b[0m \u001b[1;33m=\u001b[0m \u001b[0mlib\u001b[0m\u001b[1;33m.\u001b[0m\u001b[0mno_default\u001b[0m\u001b[1;33m,\u001b[0m\u001b[1;33m\u001b[0m\u001b[1;33m\u001b[0m\u001b[0m\n\u001b[0;32m   9130\u001b[0m         \u001b[0mdropna\u001b[0m\u001b[1;33m:\u001b[0m \u001b[0mbool\u001b[0m \u001b[1;33m=\u001b[0m \u001b[1;32mTrue\u001b[0m\u001b[1;33m,\u001b[0m\u001b[1;33m\u001b[0m\u001b[1;33m\u001b[0m\u001b[0m\n\u001b[0;32m   9131\u001b[0m     \u001b[1;33m)\u001b[0m \u001b[1;33m->\u001b[0m \u001b[0mDataFrameGroupBy\u001b[0m\u001b[1;33m:\u001b[0m\u001b[1;33m\u001b[0m\u001b[1;33m\u001b[0m\u001b[0m\n\u001b[0;32m   9132\u001b[0m         \u001b[1;32mif\u001b[0m \u001b[0maxis\u001b[0m \u001b[1;32mis\u001b[0m \u001b[1;32mnot\u001b[0m \u001b[0mlib\u001b[0m\u001b[1;33m.\u001b[0m\u001b[0mno_default\u001b[0m\u001b[1;33m:\u001b[0m\u001b[1;33m\u001b[0m\u001b[1;33m\u001b[0m\u001b[0m\n\u001b[1;32m-> 9133\u001b[1;33m             \u001b[0maxis\u001b[0m \u001b[1;33m=\u001b[0m \u001b[0mself\u001b[0m\u001b[1;33m.\u001b[0m\u001b[0m_get_axis_number\u001b[0m\u001b[1;33m(\u001b[0m\u001b[0maxis\u001b[0m\u001b[1;33m)\u001b[0m\u001b[1;33m\u001b[0m\u001b[1;33m\u001b[0m\u001b[0m\n\u001b[0m\u001b[0;32m   9134\u001b[0m             \u001b[1;32mif\u001b[0m \u001b[0maxis\u001b[0m \u001b[1;33m==\u001b[0m \u001b[1;36m1\u001b[0m\u001b[1;33m:\u001b[0m\u001b[1;33m\u001b[0m\u001b[1;33m\u001b[0m\u001b[0m\n\u001b[0;32m   9135\u001b[0m                 warnings.warn(\n\u001b[0;32m   9136\u001b[0m                     \u001b[1;34m\"DataFrame.groupby with axis=1 is deprecated. Do \"\u001b[0m\u001b[1;33m\u001b[0m\u001b[1;33m\u001b[0m\u001b[0m\n",
      "\u001b[1;32mc:\\Users\\JBA33\\AppData\\Local\\Programs\\Python\\Python312\\Lib\\site-packages\\pandas\\core\\generic.py\u001b[0m in \u001b[0;36m?\u001b[1;34m(cls, axis)\u001b[0m\n\u001b[0;32m    573\u001b[0m     \u001b[1;32mdef\u001b[0m \u001b[0m_get_axis_number\u001b[0m\u001b[1;33m(\u001b[0m\u001b[0mcls\u001b[0m\u001b[1;33m,\u001b[0m \u001b[0maxis\u001b[0m\u001b[1;33m:\u001b[0m \u001b[0mAxis\u001b[0m\u001b[1;33m)\u001b[0m \u001b[1;33m->\u001b[0m \u001b[0mAxisInt\u001b[0m\u001b[1;33m:\u001b[0m\u001b[1;33m\u001b[0m\u001b[1;33m\u001b[0m\u001b[0m\n\u001b[0;32m    574\u001b[0m         \u001b[1;32mtry\u001b[0m\u001b[1;33m:\u001b[0m\u001b[1;33m\u001b[0m\u001b[1;33m\u001b[0m\u001b[0m\n\u001b[0;32m    575\u001b[0m             \u001b[1;32mreturn\u001b[0m \u001b[0mcls\u001b[0m\u001b[1;33m.\u001b[0m\u001b[0m_AXIS_TO_AXIS_NUMBER\u001b[0m\u001b[1;33m[\u001b[0m\u001b[0maxis\u001b[0m\u001b[1;33m]\u001b[0m\u001b[1;33m\u001b[0m\u001b[1;33m\u001b[0m\u001b[0m\n\u001b[0;32m    576\u001b[0m         \u001b[1;32mexcept\u001b[0m \u001b[0mKeyError\u001b[0m\u001b[1;33m:\u001b[0m\u001b[1;33m\u001b[0m\u001b[1;33m\u001b[0m\u001b[0m\n\u001b[1;32m--> 577\u001b[1;33m             \u001b[1;32mraise\u001b[0m \u001b[0mValueError\u001b[0m\u001b[1;33m(\u001b[0m\u001b[1;33mf\"\u001b[0m\u001b[1;33mNo axis named \u001b[0m\u001b[1;33m{\u001b[0m\u001b[0maxis\u001b[0m\u001b[1;33m}\u001b[0m\u001b[1;33m for object type \u001b[0m\u001b[1;33m{\u001b[0m\u001b[0mcls\u001b[0m\u001b[1;33m.\u001b[0m\u001b[0m__name__\u001b[0m\u001b[1;33m}\u001b[0m\u001b[1;33m\"\u001b[0m\u001b[1;33m)\u001b[0m\u001b[1;33m\u001b[0m\u001b[1;33m\u001b[0m\u001b[0m\n\u001b[0m",
      "\u001b[1;31mValueError\u001b[0m: No axis named TEG for object type DataFrame"
     ]
    }
   ],
   "source": [
    "rd_data = all_rd_data\n",
    "\n",
    "rd_data.sort_values(['Pl', 'TR'], inplace=True)\n",
    "rd_data['diff'] = (rd_data.groupby('Pl','TEG')['Sc'].diff().values)\n",
    "rd_data.reset_index(inplace=True)\n",
    "rd_data['prev_Sc'] = rd_data.groupby('Pl','TEG')['Sc'].shift()\n",
    "rd_data.reset_index(inplace=True)\n",
    "rd_data.dropna(subset=['diff'], inplace=True)\n",
    "rd_data['diff_abs'] = rd_data['diff'].abs()   \n",
    "rd_data.sort_values(['diff_abs'],inplace=True, ascending=False)\n",
    "rd_data[['Sc','prev_Sc','diff']] = rd_data[['Sc','prev_Sc','diff']].astype(int)\n",
    "rd_data[['Pl','TEG','Round','Course','Year','Sc','prev_Sc','diff']]"
   ]
  },
  {
   "cell_type": "code",
   "execution_count": null,
   "metadata": {},
   "outputs": [],
   "source": []
  }
 ],
 "metadata": {
  "kernelspec": {
   "display_name": "Python 3",
   "language": "python",
   "name": "python3"
  },
  "language_info": {
   "codemirror_mode": {
    "name": "ipython",
    "version": 3
   },
   "file_extension": ".py",
   "mimetype": "text/x-python",
   "name": "python",
   "nbconvert_exporter": "python",
   "pygments_lexer": "ipython3",
   "version": "3.12.1"
  }
 },
 "nbformat": 4,
 "nbformat_minor": 2
}
