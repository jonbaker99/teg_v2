{
 "cells": [
  {
   "cell_type": "code",
   "execution_count": 4,
   "metadata": {},
   "outputs": [
    {
     "name": "stderr",
     "output_type": "stream",
     "text": [
      "2024-10-17 12:51:27.414 Thread 'MainThread': missing ScriptRunContext! This warning can be ignored when running in bare mode.\n",
      "2024-10-17 12:51:27.415 Thread 'MainThread': missing ScriptRunContext! This warning can be ignored when running in bare mode.\n",
      "2024-10-17 12:51:27.415 Thread 'MainThread': missing ScriptRunContext! This warning can be ignored when running in bare mode.\n",
      "2024-10-17 12:51:27.418 Thread 'MainThread': missing ScriptRunContext! This warning can be ignored when running in bare mode.\n",
      "2024-10-17 12:51:27.419 Thread 'MainThread': missing ScriptRunContext! This warning can be ignored when running in bare mode.\n"
     ]
    },
    {
     "name": "stdout",
     "output_type": "stream",
     "text": [
      "Index(['TEG', 'Round', 'Hole', 'PAR', 'SI', 'Pl', 'Sc', 'HC', 'HCStrokes',\n",
      "       'GrossVP', 'Net', 'NetVP', 'Stableford', 'TEGNum', 'HoleID', 'Player',\n",
      "       'FrontBack', 'Date', 'Course', 'Hole Order Ever', 'Sc Cum Round',\n",
      "       'Sc Cum TEG', 'Sc Cum Career', 'GrossVP Cum Round', 'GrossVP Cum TEG',\n",
      "       'GrossVP Cum Career', 'NetVP Cum Round', 'NetVP Cum TEG',\n",
      "       'NetVP Cum Career', 'Stableford Cum Round', 'Stableford Cum TEG',\n",
      "       'Stableford Cum Career', 'TEG Count', 'Career Count', 'Sc Round Avg',\n",
      "       'Sc TEG Avg', 'Sc Career Avg', 'GrossVP Round Avg', 'GrossVP TEG Avg',\n",
      "       'GrossVP Career Avg', 'NetVP Round Avg', 'NetVP TEG Avg',\n",
      "       'NetVP Career Avg', 'Stableford Round Avg', 'Stableford TEG Avg',\n",
      "       'Stableford Career Avg', 'Year'],\n",
      "      dtype='object')\n",
      "     TEG  Round  Hole  PAR  SI  Pl   Sc    HC  HCStrokes  GrossVP  ...  \\\n",
      "0  TEG 7      1     1    5   7  AB  8.0  36.0        2.0      3.0  ...   \n",
      "1  TEG 7      1     2    3  13  AB  4.0  36.0        2.0      1.0  ...   \n",
      "2  TEG 7      1     3    5  11  AB  6.0  36.0        2.0      1.0  ...   \n",
      "3  TEG 7      1     4    4  15  AB  5.0  36.0        2.0      1.0  ...   \n",
      "4  TEG 7      1     5    3  17  AB  8.0  36.0        2.0      5.0  ...   \n",
      "\n",
      "   GrossVP TEG Avg  GrossVP Career Avg  NetVP Round Avg  NetVP TEG Avg  \\\n",
      "0         3.000000            3.000000         1.000000       1.000000   \n",
      "1         2.000000            2.000000         0.000000       0.000000   \n",
      "2         1.666667            1.666667        -0.333333      -0.333333   \n",
      "3         1.500000            1.500000        -0.500000      -0.500000   \n",
      "4         2.200000            2.200000         0.200000       0.200000   \n",
      "\n",
      "  NetVP Career Avg Stableford Round Avg Stableford TEG Avg  \\\n",
      "0         1.000000             1.000000           1.000000   \n",
      "1         0.000000             2.000000           2.000000   \n",
      "2        -0.333333             2.333333           2.333333   \n",
      "3        -0.500000             2.500000           2.500000   \n",
      "4         0.200000             2.000000           2.000000   \n",
      "\n",
      "  Stableford Career Avg  Year  TEG-Round  \n",
      "0              1.000000  2014   TEG 7|R1  \n",
      "1              2.000000  2014   TEG 7|R1  \n",
      "2              2.333333  2014   TEG 7|R1  \n",
      "3              2.500000  2014   TEG 7|R1  \n",
      "4              2.000000  2014   TEG 7|R1  \n",
      "\n",
      "[5 rows x 48 columns]\n"
     ]
    }
   ],
   "source": [
    "from utils import load_all_data\n",
    "\n",
    "all_data = load_all_data()\n",
    "\n",
    "print(all_data.columns)\n",
    "\n",
    "df = all_data\n",
    "\n",
    "df['TEG-Round'] = df['TEG'] +'|R' + df['Round'].astype('str')\n",
    "print(df.head())\n"
   ]
  },
  {
   "cell_type": "code",
   "execution_count": 4,
   "metadata": {},
   "outputs": [
    {
     "name": "stdout",
     "output_type": "stream",
     "text": [
      "['Score', 'Stableford', 'Gross vs Par', 'Net vs Par']\n"
     ]
    }
   ],
   "source": [
    "name_mapping = {\n",
    "    'Gross vs Par': 'GrossVP',\n",
    "    'Score': 'Sc',\n",
    "    'Net vs Par': 'NetVP',\n",
    "    'Stableford': 'Stableford'\n",
    "}\n",
    "inverted_name_mapping = {v: k for k, v in name_mapping.items()}\n",
    "\n",
    "metrics = ['Sc', 'Stableford', 'GrossVP', 'NetVP']\n",
    "metrics_friendly = [inverted_name_mapping[metric] for metric in metrics]\n",
    "print(metrics_friendly)"
   ]
  }
 ],
 "metadata": {
  "kernelspec": {
   "display_name": "Python 3",
   "language": "python",
   "name": "python3"
  },
  "language_info": {
   "codemirror_mode": {
    "name": "ipython",
    "version": 3
   },
   "file_extension": ".py",
   "mimetype": "text/x-python",
   "name": "python",
   "nbconvert_exporter": "python",
   "pygments_lexer": "ipython3",
   "version": "3.12.1"
  }
 },
 "nbformat": 4,
 "nbformat_minor": 2
}
