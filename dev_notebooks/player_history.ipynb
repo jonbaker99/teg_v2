{
 "cells": [
  {
   "cell_type": "code",
   "execution_count": null,
   "id": "d65da951",
   "metadata": {},
   "outputs": [],
   "source": [
    "# In your Jupyter notebook, load your TEG data however you normally do\n",
    "# For example:\n",
    "from utils import get_complete_teg_data\n",
    "teg_data = get_complete_teg_data()\n",
    "\n",
    "# Or if loading directly:\n",
    "# teg_data = pd.read_parquet('path/to/your/data.parquet')\n",
    "# # Then filter to completed TEGs only"
   ]
  }
 ],
 "metadata": {
  "language_info": {
   "name": "python"
  }
 },
 "nbformat": 4,
 "nbformat_minor": 5
}
