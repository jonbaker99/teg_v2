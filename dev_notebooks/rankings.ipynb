{
 "cells": [
  {
   "cell_type": "code",
   "execution_count": 1,
   "id": "65ac3846",
   "metadata": {},
   "outputs": [],
   "source": [
    "import os\n",
    "os.chdir('../streamlit')"
   ]
  },
  {
   "cell_type": "code",
   "execution_count": 2,
   "id": "b90bba83",
   "metadata": {},
   "outputs": [
    {
     "name": "stderr",
     "output_type": "stream",
     "text": [
      "2025-09-29 15:39:41.763 WARNING streamlit.runtime.caching.cache_data_api: No runtime found, using MemoryCacheStorageManager\n",
      "2025-09-29 15:39:41.765 WARNING streamlit.runtime.caching.cache_data_api: No runtime found, using MemoryCacheStorageManager\n",
      "2025-09-29 15:39:41.765 WARNING streamlit.runtime.caching.cache_data_api: No runtime found, using MemoryCacheStorageManager\n",
      "2025-09-29 15:39:41.766 WARNING streamlit.runtime.caching.cache_data_api: No runtime found, using MemoryCacheStorageManager\n",
      "2025-09-29 15:39:41.767 WARNING streamlit.runtime.caching.cache_data_api: No runtime found, using MemoryCacheStorageManager\n",
      "2025-09-29 15:39:41.767 WARNING streamlit.runtime.caching.cache_data_api: No runtime found, using MemoryCacheStorageManager\n",
      "2025-09-29 15:39:41.768 WARNING streamlit.runtime.caching.cache_data_api: No runtime found, using MemoryCacheStorageManager\n",
      "2025-09-29 15:39:41.769 WARNING streamlit.runtime.caching.cache_data_api: No runtime found, using MemoryCacheStorageManager\n",
      "2025-09-29 15:39:41.769 WARNING streamlit.runtime.caching.cache_data_api: No runtime found, using MemoryCacheStorageManager\n",
      "2025-09-29 15:39:41.770 WARNING streamlit.runtime.caching.cache_data_api: No runtime found, using MemoryCacheStorageManager\n",
      "2025-09-29 15:39:41.771 WARNING streamlit.runtime.caching.cache_data_api: No runtime found, using MemoryCacheStorageManager\n",
      "2025-09-29 15:39:41.771 WARNING streamlit.runtime.caching.cache_data_api: No runtime found, using MemoryCacheStorageManager\n"
     ]
    }
   ],
   "source": [
    "from utils import load_all_data\n",
    "\n"
   ]
  },
  {
   "cell_type": "code",
   "execution_count": 7,
   "id": "138001b8",
   "metadata": {},
   "outputs": [],
   "source": [
    "def add_rankings(df, teg_num):\n",
    "    \"\"\"\n",
    "    Filter to specified TEG and add ranking columns.\n",
    "    \n",
    "    Parameters:\n",
    "    -----------\n",
    "    df : pandas DataFrame\n",
    "        The full tournament data from all-data.parquet\n",
    "    teg_num : int\n",
    "        The TEG number to filter and rank\n",
    "    \n",
    "    Returns:\n",
    "    --------\n",
    "    pandas DataFrame\n",
    "        Filtered data with added TEG_Hole and ranking columns\n",
    "    \"\"\"\n",
    "    # Filter to specified TEG\n",
    "    df_filtered = df[df['TEGNum'] == teg_num].copy()\n",
    "    \n",
    "    # Create cumulative hole number across TEG\n",
    "    df_filtered['TEG_Hole'] = df_filtered['Hole'] + 18 * (df_filtered['Round'] - 1)\n",
    "    \n",
    "    # Round rankings - group by Round and Hole\n",
    "    df_filtered['Rank_GrossVP_Round'] = df_filtered.groupby(['Round', 'Hole'])['GrossVP Cum Round'].rank(\n",
    "        method='min', ascending=True, na_option='keep'\n",
    "    )\n",
    "    df_filtered['Rank_Stableford_Round'] = df_filtered.groupby(['Round', 'Hole'])['Stableford Cum Round'].rank(\n",
    "        method='min', ascending=False, na_option='keep'\n",
    "    )\n",
    "    \n",
    "    # TEG rankings - group by TEG_Hole\n",
    "    df_filtered['Rank_GrossVP_TEG'] = df_filtered.groupby(['TEG_Hole'])['GrossVP Cum TEG'].rank(\n",
    "        method='min', ascending=True, na_option='keep'\n",
    "    )\n",
    "    df_filtered['Rank_Stableford_TEG'] = df_filtered.groupby(['TEG_Hole'])['Stableford Cum TEG'].rank(\n",
    "        method='min', ascending=False, na_option='keep'\n",
    "    )\n",
    "    \n",
    "    # Reorder columns\n",
    "    column_order = [\n",
    "        'Pl', 'Player', 'TEG', 'TEGNum', 'Course', 'Date', 'Round', 'Hole', 'TEG_Hole',\n",
    "        'Par', 'Sc', 'GrossVP', 'Stableford',\n",
    "        'GrossVP Cum Round', 'GrossVP Cum TEG', 'Stableford Cum Round', 'Stableford Cum TEG',\n",
    "        'Rank_GrossVP_Round', 'Rank_GrossVP_TEG', 'Rank_Stableford_Round', 'Rank_Stableford_TEG'\n",
    "    ]\n",
    "    \n",
    "    # Only include columns that exist in the dataframe\n",
    "    column_order = [col for col in column_order if col in df_filtered.columns]\n",
    "    return df_filtered[column_order]\n",
    "\n",
    "    # Add any remaining columns not in our order\n",
    "    # remaining_cols = [col for col in df_filtered.columns if col not in column_order]\n",
    "    # final_columns = column_order + remaining_cols\n",
    "    \n",
    "    # return df_filtered[final_columns]\n",
    "\n",
    "\n",
    "# Usage example and CSV export:\n",
    "# df = pd.read_parquet('all-data.parquet')\n",
    "# df_with_rankings = add_rankings(df, teg_num=1)\n",
    "# df_with_rankings.to_csv('teg_rankings.csv', index=False)"
   ]
  },
  {
   "cell_type": "code",
   "execution_count": 8,
   "id": "80f8aac1",
   "metadata": {},
   "outputs": [],
   "source": [
    "df = load_all_data(exclude_incomplete_tegs=False)\n",
    "df_with_rankings = add_rankings(df, teg_num=17)\n"
   ]
  },
  {
   "cell_type": "code",
   "execution_count": 9,
   "id": "ba516837",
   "metadata": {},
   "outputs": [],
   "source": [
    "df_with_rankings.to_csv('rankings_test.csv', index=False)"
   ]
  }
 ],
 "metadata": {
  "kernelspec": {
   "display_name": ".venv",
   "language": "python",
   "name": "python3"
  },
  "language_info": {
   "codemirror_mode": {
    "name": "ipython",
    "version": 3
   },
   "file_extension": ".py",
   "mimetype": "text/x-python",
   "name": "python",
   "nbconvert_exporter": "python",
   "pygments_lexer": "ipython3",
   "version": "3.12.1"
  }
 },
 "nbformat": 4,
 "nbformat_minor": 5
}
