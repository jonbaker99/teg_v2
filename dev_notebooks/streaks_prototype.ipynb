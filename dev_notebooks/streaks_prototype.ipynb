{
 "cells": [
  {
   "cell_type": "code",
   "execution_count": 2,
   "id": "cec95af0",
   "metadata": {},
   "outputs": [],
   "source": [
    "import os\n",
    "os.chdir('../streamlit')"
   ]
  },
  {
   "cell_type": "code",
   "execution_count": 3,
   "id": "a1cbe3df",
   "metadata": {},
   "outputs": [
    {
     "name": "stderr",
     "output_type": "stream",
     "text": [
      "2025-09-19 16:10:32.697 WARNING streamlit.runtime.caching.cache_data_api: No runtime found, using MemoryCacheStorageManager\n",
      "2025-09-19 16:10:32.701 WARNING streamlit.runtime.caching.cache_data_api: No runtime found, using MemoryCacheStorageManager\n",
      "2025-09-19 16:10:32.702 WARNING streamlit.runtime.caching.cache_data_api: No runtime found, using MemoryCacheStorageManager\n",
      "2025-09-19 16:10:32.703 WARNING streamlit.runtime.caching.cache_data_api: No runtime found, using MemoryCacheStorageManager\n",
      "2025-09-19 16:10:32.704 WARNING streamlit.runtime.caching.cache_data_api: No runtime found, using MemoryCacheStorageManager\n",
      "2025-09-19 16:10:32.705 WARNING streamlit.runtime.caching.cache_data_api: No runtime found, using MemoryCacheStorageManager\n",
      "2025-09-19 16:10:32.707 WARNING streamlit.runtime.caching.cache_data_api: No runtime found, using MemoryCacheStorageManager\n",
      "2025-09-19 16:10:32.708 WARNING streamlit.runtime.caching.cache_data_api: No runtime found, using MemoryCacheStorageManager\n",
      "2025-09-19 16:10:32.709 WARNING streamlit.runtime.caching.cache_data_api: No runtime found, using MemoryCacheStorageManager\n",
      "2025-09-19 16:10:32.711 WARNING streamlit.runtime.caching.cache_data_api: No runtime found, using MemoryCacheStorageManager\n",
      "2025-09-19 16:10:32.712 WARNING streamlit.runtime.caching.cache_data_api: No runtime found, using MemoryCacheStorageManager\n",
      "2025-09-19 16:10:32.714 WARNING streamlit.runtime.caching.cache_data_api: No runtime found, using MemoryCacheStorageManager\n",
      "2025-09-19 16:10:32.717 WARNING streamlit.runtime.caching.cache_data_api: No runtime found, using MemoryCacheStorageManager\n",
      "2025-09-19 16:10:32.719 WARNING streamlit.runtime.scriptrunner_utils.script_run_context: Thread 'MainThread': missing ScriptRunContext! This warning can be ignored when running in bare mode.\n",
      "2025-09-19 16:10:33.175 \n",
      "  \u001b[33m\u001b[1mWarning:\u001b[0m to view this Streamlit app on a browser, run it with the following\n",
      "  command:\n",
      "\n",
      "    streamlit run c:\\Users\\jonba\\Documents\\Projects - not on onedrive\\teg_v2\\.venv\\Lib\\site-packages\\ipykernel_launcher.py [ARGUMENTS]\n",
      "2025-09-19 16:10:33.176 Thread 'MainThread': missing ScriptRunContext! This warning can be ignored when running in bare mode.\n",
      "2025-09-19 16:10:33.176 Thread 'MainThread': missing ScriptRunContext! This warning can be ignored when running in bare mode.\n",
      "2025-09-19 16:10:33.177 Thread 'MainThread': missing ScriptRunContext! This warning can be ignored when running in bare mode.\n",
      "2025-09-19 16:10:33.254 Thread 'MainThread': missing ScriptRunContext! This warning can be ignored when running in bare mode.\n",
      "2025-09-19 16:10:33.255 Thread 'MainThread': missing ScriptRunContext! This warning can be ignored when running in bare mode.\n",
      "2025-09-19 16:10:33.255 Thread 'MainThread': missing ScriptRunContext! This warning can be ignored when running in bare mode.\n"
     ]
    }
   ],
   "source": [
    "from utils import load_all_data\n",
    "\n",
    "all_data = load_all_data(exclude_teg_50 = True, exclude_incomplete_tegs = False)\n"
   ]
  },
  {
   "cell_type": "code",
   "execution_count": 8,
   "id": "e09745f2",
   "metadata": {},
   "outputs": [
    {
     "name": "stdout",
     "output_type": "stream",
     "text": [
      "Index(['Pl', 'HoleID', 'Sc', 'Career Count', 'GrossVP', 'Hole Order Ever',\n",
      "       'eagle', 'birdie', 'par_better', 'double_bogey', 'TBP'],\n",
      "      dtype='object')\n"
     ]
    }
   ],
   "source": [
    "\n",
    "# print(all_data.columns)\n",
    "streaks_data = all_data[['Pl','HoleID','Sc','Career Count','GrossVP','Hole Order Ever']].copy()\n",
    "\n",
    "streaks_data['eagle'] = streaks_data['GrossVP']<=-2\n",
    "streaks_data['birdie'] = streaks_data['GrossVP']<=-1\n",
    "streaks_data['par_better'] = streaks_data['GrossVP']<=0\n",
    "streaks_data['double_bogey'] = streaks_data['GrossVP']>1\n",
    "streaks_data['TBP'] = streaks_data['GrossVP']>2\n",
    "\n",
    "print(streaks_data.columns)\n"
   ]
  },
  {
   "cell_type": "code",
   "execution_count": 9,
   "id": "bfda84d4",
   "metadata": {},
   "outputs": [],
   "source": [
    "import pandas as pd\n",
    "\n",
    "BOOL_COLS = [\"eagle\", \"birdie\", \"par_better\", \"double_bogey\", \"TBP\"]\n",
    "\n",
    "def add_streaks_multi(df, cols=BOOL_COLS, assume_sorted=False):\n",
    "    # Sort once for correctness (stable sort keeps any ties predictable)\n",
    "    if not assume_sorted:\n",
    "        df = df.sort_values([\"Pl\", \"Career Count\"], kind=\"mergesort\").copy()\n",
    "\n",
    "    for col in cols:\n",
    "        s = df[col].fillna(False).astype(bool)\n",
    "\n",
    "        # New segment whenever player changes OR value flips\n",
    "        reset = df[\"Pl\"].ne(df[\"Pl\"].shift()) | s.ne(s.shift())\n",
    "        seg_id = reset.cumsum()\n",
    "\n",
    "        # Position within each segment\n",
    "        pos = df.groupby(seg_id).cumcount() + 1\n",
    "\n",
    "        # True streak (0 on False), False streak (0 on True)\n",
    "        df[f\"{col}_true_streak\"]  = pos.where(s, 0)\n",
    "        df[f\"{col}_false_streak\"] = pos.where(~s, 0)\n",
    "\n",
    "    return df\n",
    "\n",
    "streaks_processed = add_streaks_multi(streaks_data)"
   ]
  },
  {
   "cell_type": "code",
   "execution_count": 10,
   "id": "472e0355",
   "metadata": {},
   "outputs": [],
   "source": [
    "# all the new streak columns\n",
    "streak_cols = [c for c in streaks_processed.columns if c.endswith(\"_streak\")]\n",
    "\n",
    "max_streaks = (\n",
    "    streaks_processed\n",
    "    .groupby(\"Pl\")[streak_cols]\n",
    "    .max()\n",
    "    .reset_index()\n",
    ")\n"
   ]
  },
  {
   "cell_type": "code",
   "execution_count": 11,
   "id": "0e420fc2",
   "metadata": {},
   "outputs": [],
   "source": [
    "latest_idx = streaks_processed.groupby(\"Pl\")[\"Career Count\"].idxmax()\n",
    "\n",
    "latest_streaks = (\n",
    "    streaks_processed.loc[latest_idx, [\"Pl\"] + streak_cols]\n",
    "    .reset_index(drop=True)\n",
    ")\n"
   ]
  },
  {
   "cell_type": "code",
   "execution_count": 12,
   "id": "1031a40b",
   "metadata": {},
   "outputs": [],
   "source": [
    "# merge best and latest (probably not needed)\n",
    "summary = (\n",
    "    max_streaks\n",
    "    .merge(latest_streaks, on=\"Pl\", suffixes=(\"_max\", \"_latest\"))\n",
    ")\n"
   ]
  },
  {
   "cell_type": "code",
   "execution_count": 15,
   "id": "3695e0bd",
   "metadata": {},
   "outputs": [],
   "source": [
    "# streak column mappings\n",
    "RENAME_MAP = {\n",
    "    \"_true_streak\": \"\",\n",
    "    \"_false_streak\": \"no \",\n",
    "}\n",
    "\n",
    "def tidy_streak_summary(summary):\n",
    "    df = (\n",
    "        summary\n",
    "        .melt(id_vars=\"Pl\", var_name=\"metric\", value_name=\"value\")\n",
    "    )\n",
    "\n",
    "    # split into base streak + max/latest\n",
    "    df[[\"streak_type\", \"when\"]] = df[\"metric\"].str.rsplit(\"_\", n=1, expand=True)\n",
    "\n",
    "    def rename_streak(s):\n",
    "        if s.endswith(\"_true_streak\"):\n",
    "            base = s.replace(\"_true_streak\", \"\")\n",
    "            return base + \"s\"\n",
    "        elif s.endswith(\"_false_streak\"):\n",
    "            base = s.replace(\"_false_streak\", \"\")\n",
    "            return \"no \" + base + \"s\"\n",
    "        else:\n",
    "            return s\n",
    "\n",
    "    df[\"streak_type\"] = df[\"streak_type\"].apply(rename_streak)\n",
    "\n",
    "    # pivot so max/latest side by side\n",
    "    df = (\n",
    "        df.pivot(index=[\"Pl\", \"streak_type\"], columns=\"when\", values=\"value\")\n",
    "          .reset_index()\n",
    "          .rename_axis(None, axis=1)\n",
    "    )\n",
    "\n",
    "    # optional: nicer column names\n",
    "    df = df.rename(columns={\"latest\": \"current streak\", \"max\": \"longest streak\"})\n",
    "\n",
    "    return df\n",
    "\n",
    "\n",
    "# usage\n",
    "summary_tidy = tidy_streak_summary(summary)\n",
    "\n"
   ]
  },
  {
   "cell_type": "code",
   "execution_count": 16,
   "id": "ab08ab53",
   "metadata": {},
   "outputs": [
    {
     "data": {
      "application/vnd.microsoft.datawrangler.viewer.v0+json": {
       "columns": [
        {
         "name": "index",
         "rawType": "int64",
         "type": "integer"
        },
        {
         "name": "Pl",
         "rawType": "object",
         "type": "string"
        },
        {
         "name": "streak_type",
         "rawType": "object",
         "type": "string"
        },
        {
         "name": "current streak",
         "rawType": "int64",
         "type": "integer"
        },
        {
         "name": "longest streak",
         "rawType": "int64",
         "type": "integer"
        }
       ],
       "ref": "d77b6984-b31d-4e5a-ab1a-52db69a387de",
       "rows": [
        [
         "0",
         "AB",
         "TBPs",
         "0",
         "3"
        ],
        [
         "1",
         "AB",
         "birdies",
         "0",
         "1"
        ],
        [
         "2",
         "AB",
         "double_bogeys",
         "2",
         "9"
        ],
        [
         "3",
         "AB",
         "eagles",
         "0",
         "0"
        ],
        [
         "4",
         "AB",
         "no TBPs",
         "3",
         "28"
        ],
        [
         "5",
         "AB",
         "no birdies",
         "33",
         "228"
        ],
        [
         "6",
         "AB",
         "no double_bogeys",
         "0",
         "8"
        ],
        [
         "7",
         "AB",
         "no eagles",
         "792",
         "792"
        ],
        [
         "8",
         "AB",
         "no par_betters",
         "15",
         "26"
        ],
        [
         "9",
         "AB",
         "par_betters",
         "0",
         "3"
        ],
        [
         "10",
         "DM",
         "TBPs",
         "1",
         "3"
        ],
        [
         "11",
         "DM",
         "birdies",
         "0",
         "2"
        ],
        [
         "12",
         "DM",
         "double_bogeys",
         "2",
         "5"
        ],
        [
         "13",
         "DM",
         "eagles",
         "0",
         "1"
        ],
        [
         "14",
         "DM",
         "no TBPs",
         "0",
         "59"
        ],
        [
         "15",
         "DM",
         "no birdies",
         "39",
         "126"
        ],
        [
         "16",
         "DM",
         "no double_bogeys",
         "0",
         "21"
        ],
        [
         "17",
         "DM",
         "no eagles",
         "183",
         "950"
        ],
        [
         "18",
         "DM",
         "no par_betters",
         "5",
         "16"
        ],
        [
         "19",
         "DM",
         "par_betters",
         "0",
         "5"
        ],
        [
         "20",
         "GW",
         "TBPs",
         "0",
         "4"
        ],
        [
         "21",
         "GW",
         "birdies",
         "0",
         "2"
        ],
        [
         "22",
         "GW",
         "double_bogeys",
         "0",
         "12"
        ],
        [
         "23",
         "GW",
         "eagles",
         "0",
         "0"
        ],
        [
         "24",
         "GW",
         "no TBPs",
         "17",
         "40"
        ],
        [
         "25",
         "GW",
         "no birdies",
         "25",
         "146"
        ],
        [
         "26",
         "GW",
         "no double_bogeys",
         "1",
         "14"
        ],
        [
         "27",
         "GW",
         "no eagles",
         "1134",
         "1134"
        ],
        [
         "28",
         "GW",
         "no par_betters",
         "0",
         "40"
        ],
        [
         "29",
         "GW",
         "par_betters",
         "1",
         "5"
        ],
        [
         "30",
         "HM",
         "TBPs",
         "2",
         "5"
        ],
        [
         "31",
         "HM",
         "birdies",
         "0",
         "2"
        ],
        [
         "32",
         "HM",
         "double_bogeys",
         "3",
         "7"
        ],
        [
         "33",
         "HM",
         "eagles",
         "0",
         "0"
        ],
        [
         "34",
         "HM",
         "no TBPs",
         "0",
         "42"
        ],
        [
         "35",
         "HM",
         "no birdies",
         "67",
         "158"
        ],
        [
         "36",
         "HM",
         "no double_bogeys",
         "0",
         "18"
        ],
        [
         "37",
         "HM",
         "no eagles",
         "486",
         "486"
        ],
        [
         "38",
         "HM",
         "no par_betters",
         "3",
         "16"
        ],
        [
         "39",
         "HM",
         "par_betters",
         "0",
         "5"
        ],
        [
         "40",
         "JB",
         "TBPs",
         "0",
         "3"
        ],
        [
         "41",
         "JB",
         "birdies",
         "0",
         "2"
        ],
        [
         "42",
         "JB",
         "double_bogeys",
         "0",
         "9"
        ],
        [
         "43",
         "JB",
         "eagles",
         "0",
         "1"
        ],
        [
         "44",
         "JB",
         "no TBPs",
         "1",
         "41"
        ],
        [
         "45",
         "JB",
         "no birdies",
         "13",
         "127"
        ],
        [
         "46",
         "JB",
         "no double_bogeys",
         "1",
         "23"
        ],
        [
         "47",
         "JB",
         "no eagles",
         "946",
         "946"
        ],
        [
         "48",
         "JB",
         "no par_betters",
         "0",
         "26"
        ],
        [
         "49",
         "JB",
         "par_betters",
         "1",
         "6"
        ]
       ],
       "shape": {
        "columns": 4,
        "rows": 70
       }
      },
      "text/html": [
       "<div>\n",
       "<style scoped>\n",
       "    .dataframe tbody tr th:only-of-type {\n",
       "        vertical-align: middle;\n",
       "    }\n",
       "\n",
       "    .dataframe tbody tr th {\n",
       "        vertical-align: top;\n",
       "    }\n",
       "\n",
       "    .dataframe thead th {\n",
       "        text-align: right;\n",
       "    }\n",
       "</style>\n",
       "<table border=\"1\" class=\"dataframe\">\n",
       "  <thead>\n",
       "    <tr style=\"text-align: right;\">\n",
       "      <th></th>\n",
       "      <th>Pl</th>\n",
       "      <th>streak_type</th>\n",
       "      <th>current streak</th>\n",
       "      <th>longest streak</th>\n",
       "    </tr>\n",
       "  </thead>\n",
       "  <tbody>\n",
       "    <tr>\n",
       "      <th>0</th>\n",
       "      <td>AB</td>\n",
       "      <td>TBPs</td>\n",
       "      <td>0</td>\n",
       "      <td>3</td>\n",
       "    </tr>\n",
       "    <tr>\n",
       "      <th>1</th>\n",
       "      <td>AB</td>\n",
       "      <td>birdies</td>\n",
       "      <td>0</td>\n",
       "      <td>1</td>\n",
       "    </tr>\n",
       "    <tr>\n",
       "      <th>2</th>\n",
       "      <td>AB</td>\n",
       "      <td>double_bogeys</td>\n",
       "      <td>2</td>\n",
       "      <td>9</td>\n",
       "    </tr>\n",
       "    <tr>\n",
       "      <th>3</th>\n",
       "      <td>AB</td>\n",
       "      <td>eagles</td>\n",
       "      <td>0</td>\n",
       "      <td>0</td>\n",
       "    </tr>\n",
       "    <tr>\n",
       "      <th>4</th>\n",
       "      <td>AB</td>\n",
       "      <td>no TBPs</td>\n",
       "      <td>3</td>\n",
       "      <td>28</td>\n",
       "    </tr>\n",
       "    <tr>\n",
       "      <th>...</th>\n",
       "      <td>...</td>\n",
       "      <td>...</td>\n",
       "      <td>...</td>\n",
       "      <td>...</td>\n",
       "    </tr>\n",
       "    <tr>\n",
       "      <th>65</th>\n",
       "      <td>SN</td>\n",
       "      <td>no birdies</td>\n",
       "      <td>16</td>\n",
       "      <td>134</td>\n",
       "    </tr>\n",
       "    <tr>\n",
       "      <th>66</th>\n",
       "      <td>SN</td>\n",
       "      <td>no double_bogeys</td>\n",
       "      <td>2</td>\n",
       "      <td>20</td>\n",
       "    </tr>\n",
       "    <tr>\n",
       "      <th>67</th>\n",
       "      <td>SN</td>\n",
       "      <td>no eagles</td>\n",
       "      <td>147</td>\n",
       "      <td>698</td>\n",
       "    </tr>\n",
       "    <tr>\n",
       "      <th>68</th>\n",
       "      <td>SN</td>\n",
       "      <td>no par_betters</td>\n",
       "      <td>6</td>\n",
       "      <td>20</td>\n",
       "    </tr>\n",
       "    <tr>\n",
       "      <th>69</th>\n",
       "      <td>SN</td>\n",
       "      <td>par_betters</td>\n",
       "      <td>0</td>\n",
       "      <td>5</td>\n",
       "    </tr>\n",
       "  </tbody>\n",
       "</table>\n",
       "<p>70 rows × 4 columns</p>\n",
       "</div>"
      ],
      "text/plain": [
       "    Pl       streak_type  current streak  longest streak\n",
       "0   AB              TBPs               0               3\n",
       "1   AB           birdies               0               1\n",
       "2   AB     double_bogeys               2               9\n",
       "3   AB            eagles               0               0\n",
       "4   AB           no TBPs               3              28\n",
       "..  ..               ...             ...             ...\n",
       "65  SN        no birdies              16             134\n",
       "66  SN  no double_bogeys               2              20\n",
       "67  SN         no eagles             147             698\n",
       "68  SN    no par_betters               6              20\n",
       "69  SN       par_betters               0               5\n",
       "\n",
       "[70 rows x 4 columns]"
      ]
     },
     "execution_count": 16,
     "metadata": {},
     "output_type": "execute_result"
    }
   ],
   "source": [
    "summary_tidy"
   ]
  }
 ],
 "metadata": {
  "kernelspec": {
   "display_name": ".venv",
   "language": "python",
   "name": "python3"
  },
  "language_info": {
   "codemirror_mode": {
    "name": "ipython",
    "version": 3
   },
   "file_extension": ".py",
   "mimetype": "text/x-python",
   "name": "python",
   "nbconvert_exporter": "python",
   "pygments_lexer": "ipython3",
   "version": "3.13.5"
  }
 },
 "nbformat": 4,
 "nbformat_minor": 5
}
