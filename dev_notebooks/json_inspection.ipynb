{
 "cells": [
  {
   "cell_type": "code",
   "execution_count": 1,
   "id": "85f5ea10",
   "metadata": {},
   "outputs": [],
   "source": [
    "import os\n",
    "os.chdir('../streamlit')"
   ]
  },
  {
   "cell_type": "code",
   "execution_count": 5,
   "id": "c6540be5",
   "metadata": {},
   "outputs": [
    {
     "name": "stdout",
     "output_type": "stream",
     "text": [
      "--- Unique 'type' Values from 'momentum_patterns' ---\n",
      "['cold' 'hot']\n"
     ]
    }
   ],
   "source": [
    "import pandas as pd\n",
    "import json\n",
    "from pandas import json_normalize\n",
    "import os\n",
    "\n",
    "# 1. Define the file path\n",
    "file_path = r'commentary\\inspection\\teg_17\\round_1\\round_data_full_pretty.json'\n",
    "\n",
    "if not os.path.exists(file_path):\n",
    "    print(f\"Error: File not found at '{file_path}'.\")\n",
    "else:\n",
    "    # 2. Load the JSON data\n",
    "    try:\n",
    "        with open(file_path, 'r') as f:\n",
    "            data = json.load(f)\n",
    "    except Exception as e:\n",
    "        print(f\"Error loading JSON file: {e}\")\n",
    "        exit()\n",
    "\n",
    "    # 3. NORMALIZE THE NESTED LIST\n",
    "    # 'record_path' is required to flatten the list of dictionaries inside \"momentum_patterns\"\n",
    "    # The 'type' field is now directly available as 'df['type']'\n",
    "    try:\n",
    "        df = json_normalize(data, record_path='momentum_patterns')\n",
    "    except Exception as e:\n",
    "        # This catch handles if 'momentum_patterns' is missing or not a list\n",
    "        print(f\"Error normalizing JSON with 'momentum_patterns': {e}\")\n",
    "        exit()\n",
    "\n",
    "    # 4. Extract unique values from the now-accessible 'type' column\n",
    "    if 'type' in df.columns:\n",
    "        unique_values = df['type'].unique()\n",
    "\n",
    "        # 5. Print the result\n",
    "        print(\"--- Unique 'type' Values from 'momentum_patterns' ---\")\n",
    "        print(unique_values)\n",
    "    else:\n",
    "        print(\"Error: The 'type' column was not found after normalizing 'momentum_patterns'.\")"
   ]
  }
 ],
 "metadata": {
  "kernelspec": {
   "display_name": ".venv",
   "language": "python",
   "name": "python3"
  },
  "language_info": {
   "codemirror_mode": {
    "name": "ipython",
    "version": 3
   },
   "file_extension": ".py",
   "mimetype": "text/x-python",
   "name": "python",
   "nbconvert_exporter": "python",
   "pygments_lexer": "ipython3",
   "version": "3.13.5"
  }
 },
 "nbformat": 4,
 "nbformat_minor": 5
}
